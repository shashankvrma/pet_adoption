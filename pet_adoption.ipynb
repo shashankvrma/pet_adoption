{
  "nbformat": 4,
  "nbformat_minor": 0,
  "metadata": {
    "colab": {
      "name": "pet_adoption.ipynb",
      "provenance": []
    },
    "kernelspec": {
      "name": "python3",
      "display_name": "Python 3"
    }
  },
  "cells": [
    {
      "cell_type": "markdown",
      "metadata": {
        "id": "HIrbbLaOlckO",
        "colab_type": "text"
      },
      "source": [
        "# IMPORTING THE LIBRARIES"
      ]
    },
    {
      "cell_type": "code",
      "metadata": {
        "id": "8AePt3s6GXhg",
        "colab_type": "code",
        "colab": {}
      },
      "source": [
        "import numpy as np\n",
        "import pandas as pd\n",
        "import matplotlib.pyplot as plt\n",
        "import seaborn as sns\n",
        "from sklearn.preprocessing import OneHotEncoder\n",
        "from sklearn.naive_bayes import GaussianNB\n",
        "from sklearn.neighbors import KNeighborsClassifier\n",
        "from sklearn.ensemble import RandomForestClassifier\n",
        "from xgboost import XGBClassifier\n",
        "from sklearn.feature_selection import SelectKBest, f_classif\n",
        "import datetime\n",
        "import re\n",
        "from sklearn.pipeline import Pipeline\n",
        "from sklearn.preprocessing import StandardScaler\n",
        "from sklearn.svm import SVC\n",
        "from sklearn.linear_model import LogisticRegression"
      ],
      "execution_count": null,
      "outputs": []
    },
    {
      "cell_type": "markdown",
      "metadata": {
        "id": "DZYggjr8lts8",
        "colab_type": "text"
      },
      "source": [
        "# READING THE CSV FILES"
      ]
    },
    {
      "cell_type": "code",
      "metadata": {
        "id": "85sapgmdLNtR",
        "colab_type": "code",
        "colab": {}
      },
      "source": [
        "df_train = pd.read_csv('train.csv')\n",
        "df_test = pd.read_csv('test.csv')"
      ],
      "execution_count": null,
      "outputs": []
    },
    {
      "cell_type": "code",
      "metadata": {
        "id": "b5oZ3BRWLNXb",
        "colab_type": "code",
        "colab": {
          "base_uri": "https://localhost:8080/",
          "height": 294
        },
        "outputId": "a1fff440-9af8-4eac-eb52-8d5b98d23463"
      },
      "source": [
        "df_train.describe().T"
      ],
      "execution_count": null,
      "outputs": [
        {
          "output_type": "execute_result",
          "data": {
            "text/html": [
              "<div>\n",
              "<style scoped>\n",
              "    .dataframe tbody tr th:only-of-type {\n",
              "        vertical-align: middle;\n",
              "    }\n",
              "\n",
              "    .dataframe tbody tr th {\n",
              "        vertical-align: top;\n",
              "    }\n",
              "\n",
              "    .dataframe thead th {\n",
              "        text-align: right;\n",
              "    }\n",
              "</style>\n",
              "<table border=\"1\" class=\"dataframe\">\n",
              "  <thead>\n",
              "    <tr style=\"text-align: right;\">\n",
              "      <th></th>\n",
              "      <th>condition</th>\n",
              "      <th>length(m)</th>\n",
              "      <th>height(cm)</th>\n",
              "      <th>X1</th>\n",
              "      <th>X2</th>\n",
              "      <th>breed_category</th>\n",
              "      <th>pet_category</th>\n",
              "    </tr>\n",
              "  </thead>\n",
              "  <tbody>\n",
              "    <tr>\n",
              "      <th>count</th>\n",
              "      <td>17357.000000</td>\n",
              "      <td>18834.000000</td>\n",
              "      <td>18834.000000</td>\n",
              "      <td>18834.000000</td>\n",
              "      <td>18834.000000</td>\n",
              "      <td>18834.000000</td>\n",
              "      <td>18834.000000</td>\n",
              "    </tr>\n",
              "    <tr>\n",
              "      <th>mean</th>\n",
              "      <td>0.883390</td>\n",
              "      <td>0.502636</td>\n",
              "      <td>27.448832</td>\n",
              "      <td>5.369598</td>\n",
              "      <td>4.577307</td>\n",
              "      <td>0.600563</td>\n",
              "      <td>1.709143</td>\n",
              "    </tr>\n",
              "    <tr>\n",
              "      <th>std</th>\n",
              "      <td>0.770434</td>\n",
              "      <td>0.288705</td>\n",
              "      <td>13.019781</td>\n",
              "      <td>6.572366</td>\n",
              "      <td>3.517763</td>\n",
              "      <td>0.629883</td>\n",
              "      <td>0.717919</td>\n",
              "    </tr>\n",
              "    <tr>\n",
              "      <th>min</th>\n",
              "      <td>0.000000</td>\n",
              "      <td>0.000000</td>\n",
              "      <td>5.000000</td>\n",
              "      <td>0.000000</td>\n",
              "      <td>0.000000</td>\n",
              "      <td>0.000000</td>\n",
              "      <td>0.000000</td>\n",
              "    </tr>\n",
              "    <tr>\n",
              "      <th>25%</th>\n",
              "      <td>0.000000</td>\n",
              "      <td>0.250000</td>\n",
              "      <td>16.172500</td>\n",
              "      <td>0.000000</td>\n",
              "      <td>1.000000</td>\n",
              "      <td>0.000000</td>\n",
              "      <td>1.000000</td>\n",
              "    </tr>\n",
              "    <tr>\n",
              "      <th>50%</th>\n",
              "      <td>1.000000</td>\n",
              "      <td>0.500000</td>\n",
              "      <td>27.340000</td>\n",
              "      <td>0.000000</td>\n",
              "      <td>4.000000</td>\n",
              "      <td>1.000000</td>\n",
              "      <td>2.000000</td>\n",
              "    </tr>\n",
              "    <tr>\n",
              "      <th>75%</th>\n",
              "      <td>1.000000</td>\n",
              "      <td>0.760000</td>\n",
              "      <td>38.890000</td>\n",
              "      <td>13.000000</td>\n",
              "      <td>9.000000</td>\n",
              "      <td>1.000000</td>\n",
              "      <td>2.000000</td>\n",
              "    </tr>\n",
              "    <tr>\n",
              "      <th>max</th>\n",
              "      <td>2.000000</td>\n",
              "      <td>1.000000</td>\n",
              "      <td>50.000000</td>\n",
              "      <td>19.000000</td>\n",
              "      <td>9.000000</td>\n",
              "      <td>2.000000</td>\n",
              "      <td>4.000000</td>\n",
              "    </tr>\n",
              "  </tbody>\n",
              "</table>\n",
              "</div>"
            ],
            "text/plain": [
              "          condition     length(m)  ...  breed_category  pet_category\n",
              "count  17357.000000  18834.000000  ...    18834.000000  18834.000000\n",
              "mean       0.883390      0.502636  ...        0.600563      1.709143\n",
              "std        0.770434      0.288705  ...        0.629883      0.717919\n",
              "min        0.000000      0.000000  ...        0.000000      0.000000\n",
              "25%        0.000000      0.250000  ...        0.000000      1.000000\n",
              "50%        1.000000      0.500000  ...        1.000000      2.000000\n",
              "75%        1.000000      0.760000  ...        1.000000      2.000000\n",
              "max        2.000000      1.000000  ...        2.000000      4.000000\n",
              "\n",
              "[8 rows x 7 columns]"
            ]
          },
          "metadata": {
            "tags": []
          },
          "execution_count": 21
        }
      ]
    },
    {
      "cell_type": "code",
      "metadata": {
        "id": "wsJCt3ZYl8hq",
        "colab_type": "code",
        "colab": {}
      },
      "source": [
        "df_test.describe().T"
      ],
      "execution_count": null,
      "outputs": []
    },
    {
      "cell_type": "markdown",
      "metadata": {
        "id": "jArH9puSl01y",
        "colab_type": "text"
      },
      "source": [
        "# SCALING THE LENGTH COLUMN"
      ]
    },
    {
      "cell_type": "code",
      "metadata": {
        "id": "83-IWvBIJHzV",
        "colab_type": "code",
        "colab": {}
      },
      "source": [
        "df_train['length(m)'] = df_train['length(m)'].apply(lambda x: x*100)\n",
        "df_test['length(m)'] = df_test['length(m)'].apply(lambda x: x*100)"
      ],
      "execution_count": null,
      "outputs": []
    },
    {
      "cell_type": "markdown",
      "metadata": {
        "id": "nkuQbDRYm0Mk",
        "colab_type": "text"
      },
      "source": [
        "# IMPUTING THE MISSING VALUES"
      ]
    },
    {
      "cell_type": "code",
      "metadata": {
        "id": "Y0CHoBC6mv_q",
        "colab_type": "code",
        "colab": {}
      },
      "source": [
        "df_train['length(m)'] = df_train['length(m)'].replace(0,df_train['length(m)'].mean())\n",
        "df_train.condition.fillna(0.0, inplace = True)\n",
        "df_test.condition.fillna(0.0, inplace = True)"
      ],
      "execution_count": null,
      "outputs": []
    },
    {
      "cell_type": "markdown",
      "metadata": {
        "id": "j3NcDKhemXWL",
        "colab_type": "text"
      },
      "source": [
        "# GENERATING THE TIME FEATURE"
      ]
    },
    {
      "cell_type": "code",
      "metadata": {
        "id": "dMGwvqbbStEi",
        "colab_type": "code",
        "colab": {}
      },
      "source": [
        "def calcdays(row):\n",
        "    st = row['issue_date']\n",
        "    et = row['listing_date']\n",
        "    match = re.search(r'\\d{4}-\\d{2}-\\d{2}', st) \n",
        "    match2 = re.search(r'\\d{4}-\\d{2}-\\d{2}', et) \n",
        "    sdate = datetime.datetime.strptime(match.group(), '%Y-%m-%d').date()\n",
        "    edate = datetime.datetime.strptime(match2.group(), '%Y-%m-%d').date()\n",
        "    return (edate - sdate).days\n",
        "\n",
        "\n",
        "df_train['time'] = df_train.apply(calcdays, axis = 'columns')\n",
        "df_test['time'] = df_test.apply(calcdays, axis = 'columns')"
      ],
      "execution_count": null,
      "outputs": []
    },
    {
      "cell_type": "markdown",
      "metadata": {
        "id": "tUrGQY6fmcCU",
        "colab_type": "text"
      },
      "source": [
        "#DROPING THE COLUMNS "
      ]
    },
    {
      "cell_type": "code",
      "metadata": {
        "id": "k8aEvNd9z_s4",
        "colab_type": "code",
        "colab": {}
      },
      "source": [
        "df_train.drop(['pet_id', 'issue_date', 'listing_date'], axis = 1, inplace = True)\n",
        "df = df_test.copy()\n",
        "df_test.drop(['pet_id', 'issue_date', 'listing_date'], axis = 1, inplace = True)"
      ],
      "execution_count": null,
      "outputs": []
    },
    {
      "cell_type": "markdown",
      "metadata": {
        "id": "kFS5NNifm8uw",
        "colab_type": "text"
      },
      "source": [
        "# LABEL ENCODING THE COLOR_TYPE COLUMN"
      ]
    },
    {
      "cell_type": "code",
      "metadata": {
        "id": "lhhLImeeT29x",
        "colab_type": "code",
        "colab": {}
      },
      "source": [
        "from sklearn.preprocessing import LabelEncoder\n",
        "le = LabelEncoder()\n",
        "df_train['color_type'] = le.fit_transform(df_train['color_type'])\n",
        "df_test['color_type'] = le.transform(df_test['color_type'])"
      ],
      "execution_count": null,
      "outputs": []
    },
    {
      "cell_type": "markdown",
      "metadata": {
        "id": "_HvWeYTHnLYX",
        "colab_type": "text"
      },
      "source": [
        "# MAKING SPLITS OF DATASET"
      ]
    },
    {
      "cell_type": "code",
      "metadata": {
        "id": "bx5b_BcAWdt1",
        "colab_type": "code",
        "colab": {}
      },
      "source": [
        "X_train = df_train.copy()\n",
        "X_train = X_train.drop(['breed_category','pet_category'], axis = 1)\n",
        "X_valid = df_test.copy()\n",
        "y_breed = df_train['breed_category']\n",
        "y_pet = df_train['pet_category']"
      ],
      "execution_count": null,
      "outputs": []
    },
    {
      "cell_type": "code",
      "metadata": {
        "id": "h_vNOfEIyABK",
        "colab_type": "code",
        "colab": {}
      },
      "source": [
        "X_valid['length(m)'] = X_valid['length(m)'].apply(lambda x: x*100)"
      ],
      "execution_count": null,
      "outputs": []
    },
    {
      "cell_type": "markdown",
      "metadata": {
        "id": "linupYGsnTt6",
        "colab_type": "text"
      },
      "source": [
        "# CHECKING CROSS VALIDATION SCORE"
      ]
    },
    {
      "cell_type": "code",
      "metadata": {
        "id": "1JMFSgvAeVhv",
        "colab_type": "code",
        "colab": {
          "base_uri": "https://localhost:8080/",
          "height": 35
        },
        "outputId": "360146b7-f096-4ac4-a5dc-893a13a842c0"
      },
      "source": [
        "my_pipeline = Pipeline(steps = [\n",
        "                                ('StandardScaler',StandardScaler()),\n",
        "                                ('rfc', XGBClassifier(learning_rate=0.1, n_estimators=100, max_depth=5,\n",
        "                        min_child_weight=3))                        \n",
        "])\n",
        "from sklearn.model_selection import cross_val_score\n",
        "scores = cross_val_score(my_pipeline, X_train, y_pet, scoring = 'accuracy', cv=5)\n",
        "print(scores.mean())"
      ],
      "execution_count": null,
      "outputs": [
        {
          "output_type": "stream",
          "text": [
            "0.8972600895413265\n"
          ],
          "name": "stdout"
        }
      ]
    },
    {
      "cell_type": "markdown",
      "metadata": {
        "id": "k4cmmX_gn8CI",
        "colab_type": "text"
      },
      "source": [
        "# STANDARD SCALING"
      ]
    },
    {
      "cell_type": "code",
      "metadata": {
        "id": "iFWYV8gqv5pS",
        "colab_type": "code",
        "colab": {}
      },
      "source": [
        "from sklearn.preprocessing import StandardScaler\n",
        "ss = StandardScaler()\n",
        "X_train = ss.fit_transform(X_train)\n",
        "X_valid = ss.fit_transform(X_valid)"
      ],
      "execution_count": null,
      "outputs": []
    },
    {
      "cell_type": "markdown",
      "metadata": {
        "id": "Pe6Lm9O1oVpl",
        "colab_type": "text"
      },
      "source": [
        "# MAKING THE MODEL"
      ]
    },
    {
      "cell_type": "code",
      "metadata": {
        "id": "j3cl1hxJtNuf",
        "colab_type": "code",
        "colab": {}
      },
      "source": [
        "pet = XGBClassifier(learning_rate=0.1, n_estimators=100, max_depth=5,\n",
        "                        min_child_weight=3)\n",
        "pet.fit(X_train, y_pet)\n",
        "y_pet_pred = pet.predict(X_valid)"
      ],
      "execution_count": null,
      "outputs": []
    },
    {
      "cell_type": "code",
      "metadata": {
        "id": "xRY0zcNb_Rka",
        "colab_type": "code",
        "colab": {}
      },
      "source": [
        "breed = XGBClassifier(learning_rate=0.1, n_estimators=100, max_depth=5,\n",
        "                        min_child_weight=3)\n",
        "breed.fit(X_train, y_breed)\n",
        "y_breed_pred = breed.predict(X_valid)"
      ],
      "execution_count": null,
      "outputs": []
    },
    {
      "cell_type": "markdown",
      "metadata": {
        "id": "TdxkOWR3oZkU",
        "colab_type": "text"
      },
      "source": [
        "# MAKING PREDICTION FILE"
      ]
    },
    {
      "cell_type": "code",
      "metadata": {
        "id": "CGNR9EUvLN8f",
        "colab_type": "code",
        "colab": {}
      },
      "source": [
        "submission = pd.DataFrame({\n",
        "    'pet_id':df['pet_id'],\n",
        "    'breed_category':y_breed_pred,\n",
        "    'pet_category':y_pet_pred\n",
        "})\n",
        "submission.to_csv(\"submission.csv\", index = False)"
      ],
      "execution_count": null,
      "outputs": []
    },
    {
      "cell_type": "code",
      "metadata": {
        "id": "xRLJEb5UOy8t",
        "colab_type": "code",
        "colab": {}
      },
      "source": [
        "submission['breed_category'].value_counts()"
      ],
      "execution_count": null,
      "outputs": []
    }
  ]
}